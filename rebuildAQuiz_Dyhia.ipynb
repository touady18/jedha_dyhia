{
 "cells": [
  {
   "cell_type": "code",
   "execution_count": 11,
   "id": "9ae24001-205b-4d3c-be49-d93f07ee5240",
   "metadata": {},
   "outputs": [
    {
     "name": "stdout",
     "output_type": "stream",
     "text": [
      "Voici notre quiz, tu as trois chances !\n"
     ]
    },
    {
     "name": "stdin",
     "output_type": "stream",
     "text": [
      "Combien de fois la France a gagné la coupe du monde ?  2\n"
     ]
    },
    {
     "name": "stdout",
     "output_type": "stream",
     "text": [
      "2\n"
     ]
    },
    {
     "name": "stdin",
     "output_type": "stream",
     "text": [
      "Quand a été fondé Apple ?  RF\n"
     ]
    },
    {
     "name": "stdout",
     "output_type": "stream",
     "text": [
      "RF\n",
      "Dommage ! Il te reste 2 chances\n"
     ]
    },
    {
     "name": "stdin",
     "output_type": "stream",
     "text": [
      "Quand a été fondé Apple ?  D\n"
     ]
    },
    {
     "name": "stdout",
     "output_type": "stream",
     "text": [
      "Dommage ! Il te reste 1 chances\n"
     ]
    },
    {
     "name": "stdin",
     "output_type": "stream",
     "text": [
      "Quand a été fondé Apple ?  1976\n",
      "Qui a fondé SpaceX ? E\n"
     ]
    },
    {
     "name": "stdout",
     "output_type": "stream",
     "text": [
      "e\n",
      "Dommage ! Il te reste 0 chances\n",
      "Oh non ! Tu as perdu le jeu...\n"
     ]
    }
   ],
   "source": [
    "def questions(question, response, left_chances):\n",
    "    if left_chances > 0 :\n",
    "        question1 = input(question)\n",
    "        if question == \"Qui a fondé SpaceX ?\":\n",
    "            question1 = question1.lower()\n",
    "        print(question1)\n",
    "    while question1 != response:\n",
    "        left_chances -=1\n",
    "        print(\"Dommage ! Il te reste {} chances\".format(left_chances))\n",
    "        if left_chances == 0:\n",
    "            print(\"Oh non ! Tu as perdu le jeu...\")\n",
    "            break\n",
    "        question1 = input(question)\n",
    "        if question == \"Qui a fondé SpaceX ?\":\n",
    "            question1 = question.lower()\n",
    "    return left_chances\n",
    "\n",
    "\n",
    "nb_de_chances = 3\n",
    "\n",
    "print(\"Voici notre quiz, tu as trois chances !\")\n",
    "\n",
    "q1 = \"Combien de fois la France a gagné la coupe du monde ? \"\n",
    "q2 = \"Quand a été fondé Apple ? \"\n",
    "q3 = \"Qui a fondé SpaceX ?\"\n",
    "r1 = \"2\"\n",
    "r2 = \"1976\"\n",
    "r3 = \"elon musk\"\n",
    "\n",
    "left_chances = questions(q1,r1, nb_de_chances)\n",
    "if left_chances > 0:\n",
    "    left_chances = questions(q2,r2,left_chances)\n",
    "    if left_chances > 0:\n",
    "        left_chances = questions(q3,r3,left_chances)\n",
    "\n",
    "if left_chances > 0:\n",
    "    print(\"Bravo ! Tu as gagné le quiz !\")\n",
    "\n"
   ]
  },
  {
   "cell_type": "code",
   "execution_count": null,
   "id": "847ca758-f334-479a-86c2-c301ddda4a18",
   "metadata": {},
   "outputs": [],
   "source": [
    "class quizz():\n",
    "\n",
    "    def init(self):\n",
    "        self.nb_de_chances = 3\n",
    "\n",
    "    def asker(self, questionSentence, resp):\n",
    "        if  self.nb_de_chances > 0:\n",
    "            question = input(questionSentence)#\"Combien de fois la France a gagné la coupe du monde ? \")\n",
    "            while question != resp:\n",
    "                self.nb_de_chances -= 1\n",
    "                print(\"Dommage ! Il te reste {} chances\".format(self.nb_de_chances))\n",
    "                if self.nb_de_chances == 0:\n",
    "                    print(\"Oh non ! Tu as perdu le jeu...\")\n",
    "                    return False\n",
    "                question = input(questionSentence)\n",
    "        return True\n",
    "\n",
    "\n",
    "print(\"Voici notre quiz, tu as trois chances !\")\n",
    "myQuiz = quizz()\n",
    "\n",
    "if myQuiz.asker(\"Combien de fois la France a gagné la coupe du monde ?\", \"2\" ):\n",
    "    if myQuiz.asker(\"Quand a été fondé Apple ?  \" , \"1976\"):\n",
    "        if myQuiz.asker(\"Qui a fondé SpaceX ? \" , \"elon musk\"):\n",
    "            print(\"Bravo ! Tu as gagné le quiz !\")"
   ]
  }
 ],
 "metadata": {
  "kernelspec": {
   "display_name": "Python 3 (ipykernel)",
   "language": "python",
   "name": "python3"
  },
  "language_info": {
   "codemirror_mode": {
    "name": "ipython",
    "version": 3
   },
   "file_extension": ".py",
   "mimetype": "text/x-python",
   "name": "python",
   "nbconvert_exporter": "python",
   "pygments_lexer": "ipython3",
   "version": "3.10.12"
  }
 },
 "nbformat": 4,
 "nbformat_minor": 5
}
